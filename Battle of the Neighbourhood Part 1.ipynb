{
 "cells": [
  {
   "cell_type": "markdown",
   "metadata": {},
   "source": [
    "# Capstone Project: Battle of the Neighbourhoods Week 1"
   ]
  },
  {
   "cell_type": "markdown",
   "metadata": {},
   "source": [
    "#### Name : Phalgun Natarajan"
   ]
  },
  {
   "cell_type": "markdown",
   "metadata": {},
   "source": [
    "## Description of the Problem"
   ]
  },
  {
   "cell_type": "markdown",
   "metadata": {},
   "source": [
    "New York is one of the largest cities in the world, and the most happening place in both business, music fashion, and anyother criteria you can think of. The real estate market in New York is extremely volatile, with houses in different places having a major difference in prices.\n",
    "\n",
    "So if someone wants to sell their house, how do they know how much to price their house at? There are so many variables affecting the price of the house. The location, the street, the community, no. of bedrooms, nearby attractions, etc.\n",
    "\n",
    "This project aims to see how different factors can affect the price of a house. The following questions will be answered:\n",
    "\n",
    "- Do nearby amenities affect the price of a house?\n",
    "- TO what extent do the amenities affect the prices?\n",
    "- Can we accurately predict the price of a house looking at the location and amenities in the vicinity?\n"
   ]
  },
  {
   "cell_type": "markdown",
   "metadata": {},
   "source": [
    "# Description of the Data"
   ]
  },
  {
   "cell_type": "markdown",
   "metadata": {},
   "source": [
    "We will use 2 data sources.\n",
    "\n",
    "- The average price by neighborhoods in New York city from City Realty\n",
    "- The venues in each neighborhood. (FourSquare API)\n"
   ]
  },
  {
   "cell_type": "markdown",
   "metadata": {},
   "source": [
    "## Data \n",
    "The avg price will be taken from CityRealty\n",
    "For each neighborhood, call Geocoder Python to get its coordinate.\n",
    "For each neighborhood's coordinate, call FourSquare API to get local amenities\n",
    "Count the occurrences of each venue type and attach that information to each neighborhood.\n",
    "The output of the data collecting process will be a 2 dimensions dataframe:\n",
    "\n",
    "Each row represents a neighborhood.\n",
    "Each column will be the count of one type of venue in that neighborhood.\n",
    "The last column will be the average 2-bedroom condo price of that neighborhood."
   ]
  },
  {
   "cell_type": "markdown",
   "metadata": {},
   "source": [
    "### Using data to solve the question:\n",
    "First, correlation between price and surrounding venues will be checked.\n",
    "Second, if correlated, machine learning techniques (Regression) will be used to analyze the data. The output will be a list of venues types that effect the most on price, along with their weight on the result."
   ]
  },
  {
   "cell_type": "code",
   "execution_count": null,
   "metadata": {},
   "outputs": [],
   "source": []
  }
 ],
 "metadata": {
  "kernelspec": {
   "display_name": "Python 3",
   "language": "python",
   "name": "python3"
  },
  "language_info": {
   "codemirror_mode": {
    "name": "ipython",
    "version": 3
   },
   "file_extension": ".py",
   "mimetype": "text/x-python",
   "name": "python",
   "nbconvert_exporter": "python",
   "pygments_lexer": "ipython3",
   "version": "3.7.0"
  }
 },
 "nbformat": 4,
 "nbformat_minor": 2
}
